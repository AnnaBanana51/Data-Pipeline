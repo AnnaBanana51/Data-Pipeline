{
 "cells": [
  {
   "cell_type": "markdown",
   "metadata": {},
   "source": [
    "### Stocks and Finance \n",
    "\n",
    "Using the yfinance API again to continue working on the final project from phase 2 but using different stocks and companies."
   ]
  },
  {
   "cell_type": "markdown",
   "metadata": {},
   "source": [
    "##### yfinance website\n",
    "\n",
    "https://finance.yahoo.com/?guccounter=1&guce_referrer=aHR0cHM6Ly9naXRodWIuY29tL3JhbmFyb3Vzc2kveWZpbmFuY2U&guce_referrer_sig=AQAAAEr7INoZP5U9pxD3cIjrJy-hsHCRIUWn6qWV91qhi6TlteoXNf1xB3Svc0F5mhbsoLtJ5N533LoIEXPlmx5k6ROnXO5R2dJd0w2I_TpCZNy4kAKNJjwd-orh5KHIeReXwmTJ8MiMcHZlZmy0dMVhwsg3lc3hQBpOi_MMxCGs2Jch"
   ]
  },
  {
   "cell_type": "markdown",
   "metadata": {},
   "source": [
    "##### How to visualize tutorial \n",
    "\n",
    "https://www.kaggle.com/gaetanlopez/how-to-make-clean-visualizations"
   ]
  }
 ],
 "metadata": {
  "kernelspec": {
   "display_name": "Python 3",
   "language": "python",
   "name": "python3"
  },
  "language_info": {
   "codemirror_mode": {
    "name": "ipython",
    "version": 3
   },
   "file_extension": ".py",
   "mimetype": "text/x-python",
   "name": "python",
   "nbconvert_exporter": "python",
   "pygments_lexer": "ipython3",
   "version": "3.8.5"
  }
 },
 "nbformat": 4,
 "nbformat_minor": 4
}
